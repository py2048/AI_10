{
 "cells": [
  {
   "cell_type": "markdown",
   "metadata": {},
   "source": [
    "### Hướng dẫn\n",
    "\n",
    "Code mẫu sử dụng mệnh đề `if-else`:\n",
    "\n",
    "``` python\n",
    "age = int(input())\n",
    "if age < 5:\n",
    "    print(\"Your cat is young\")\n",
    "else :\n",
    "    print(\"Your cat is old\")\n",
    "```\n",
    "\n",
    "Code mẫu sử dụng toán tử 3 ngôi:\n",
    "\n",
    "``` python\n",
    "age = int(input())\n",
    "print(\"Your cat is young\") if age < 5 else print(\"Your cat is old\")\n",
    "```"
   ]
  }
 ],
 "nbformat": 4,
 "nbformat_minor": 5,
 "metadata": {}
}
