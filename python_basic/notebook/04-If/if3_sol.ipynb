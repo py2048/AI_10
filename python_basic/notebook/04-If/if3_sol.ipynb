{
 "cells": [
  {
   "cell_type": "markdown",
   "metadata": {},
   "source": [
    "### Hướng dẫn\n",
    "\n",
    "Code mẫu:\n",
    "\n",
    "``` python\n",
    "a = int(input())\n",
    "b = int(input())\n",
    "c = int(input())\n",
    "avg = (a + b + c) / 3\n",
    "\n",
    "if avg > a and avg > b:\n",
    "    print(\"The average value is greater than both a and b\")\n",
    "elif avg > a and avg > c:\n",
    "    print(\"The average value is greater than both a and c\")\n",
    "elif avg > b and avg > c:\n",
    "    print(\"The average value is greater than both b and c\")\n",
    "elif avg > a:\n",
    "    print(\"The average value is greater than a\")\n",
    "elif avg > b:\n",
    "    print(\"The average value is greater than b\")\n",
    "elif avg > c:\n",
    "    print(\"The average value is greater than c\")\n",
    "```"
   ]
  }
 ],
 "nbformat": 4,
 "nbformat_minor": 5,
 "metadata": {}
}
