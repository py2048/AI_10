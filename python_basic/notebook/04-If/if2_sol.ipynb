{
 "cells": [
  {
   "cell_type": "markdown",
   "metadata": {},
   "source": [
    "### Hướng dẫn\n",
    "\n",
    "Code mẫu:\n",
    "\n",
    "``` python\n",
    "temperature = int(input())\n",
    "\n",
    "if temperature >= 100:\n",
    "    print(\"Stay at home and enjoy a good movie\")\n",
    "elif temperature >= 92:\n",
    "    print(\"Stay at home\")\n",
    "elif temperature == 75:\n",
    "    print(\"Go outside and enjoy the weather\")\n",
    "elif temperature <= 0:\n",
    "    print(\"It's cool outside\")\n",
    "else:\n",
    "    print(\"Let's go to school\")\n",
    "```"
   ]
  }
 ],
 "nbformat": 4,
 "nbformat_minor": 5,
 "metadata": {}
}
