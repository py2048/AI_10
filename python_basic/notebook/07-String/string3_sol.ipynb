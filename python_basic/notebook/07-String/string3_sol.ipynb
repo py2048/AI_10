{
 "cells": [
  {
   "cell_type": "markdown",
   "metadata": {},
   "source": [
    "### Hướng dẫn\n",
    "\n",
    "Code mẫu:\n",
    "\n",
    "``` python\n",
    "s1 = input()\n",
    "s2 = input()\n",
    "\n",
    "tmp = s1[0:2] + s2[2:]\n",
    "s1 = s2[0:2] + s1[2:]\n",
    "s2 = tmp\n",
    "\n",
    "print(s1 + \" \" + s2)\n",
    "```"
   ]
  }
 ],
 "nbformat": 4,
 "nbformat_minor": 5,
 "metadata": {}
}
