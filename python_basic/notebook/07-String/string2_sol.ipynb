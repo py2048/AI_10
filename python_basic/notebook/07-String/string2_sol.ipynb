{
 "cells": [
  {
   "cell_type": "markdown",
   "metadata": {},
   "source": [
    "### Hướng dẫn\n",
    "\n",
    "Code mẫu:\n",
    "\n",
    "``` python\n",
    "s = input()\n",
    "if len(s) < 2:\n",
    "    print(\"\")\n",
    "else:\n",
    "    print(s[0:2] + s[-2:])\n",
    "```\n",
    "\n",
    "Hoặc\n",
    "\n",
    "``` python\n",
    "s = input()\n",
    "if len(s) < 2:\n",
    "    print(\"\")\n",
    "else:\n",
    "    print(s[0:2] + s[len(s) - 2: len(s)])\n",
    "```"
   ]
  }
 ],
 "nbformat": 4,
 "nbformat_minor": 5,
 "metadata": {}
}
