{
 "cells": [
  {
   "cell_type": "markdown",
   "metadata": {},
   "source": [
    "### Hướng dẫn\n",
    "\n",
    "Code mẫu:\n",
    "\n",
    "``` python\n",
    "lst = []\n",
    "n = int(input())\n",
    "\n",
    "for i in range(n):\n",
    "    lst.append(int(input()))\n",
    "\n",
    "answer = []\n",
    "for v in lst:\n",
    "    if v % 2 != 0:\n",
    "        answer.append(v)\n",
    "\n",
    "print(answer)\n",
    "```"
   ]
  }
 ],
 "nbformat": 4,
 "nbformat_minor": 5,
 "metadata": {}
}
