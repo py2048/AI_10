{
 "cells": [
  {
   "cell_type": "markdown",
   "metadata": {},
   "source": [
    "### **Bài tập**\n",
    "\n",
    "Cho một `list` các số nguyên `n` phần tử `lst` được nhập vào từ bàn\n",
    "phím, bạn hãy viết chương trình hiển thị ra màn hình một list chứa các\n",
    "số số lẻ trong `list` vừa nhập.\n",
    "\n",
    "**Ví dụ:**\n",
    "\n",
    "-   Nếu bạn nhập `n = 3, lst = [1, 2, 3]` thì màn hình sẽ hiển thị\n",
    "    ra `[1,3]`\n",
    "-   Nếu bạn nhập `n = 7, lst = [2, 4, 6, 1, 9, 5, 8]` thì màn hình sẽ\n",
    "    hiển thị ra `[1,9,5]`\n",
    "-   Nếu bạn nhập `n = 3, lst = [2, 4, 6]` thì màn hình sẽ hiển thị ra\n",
    "    `[]`\n",
    "\n",
    "### Hướng dẫn"
   ]
  }
 ],
 "nbformat": 4,
 "nbformat_minor": 5,
 "metadata": {}
}
