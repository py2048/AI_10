{
 "cells": [
  {
   "cell_type": "markdown",
   "metadata": {},
   "source": [
    "### Hướng dẫn\n",
    "\n",
    "Code mẫu không sử dụng hàm có sẵn:\n",
    "\n",
    "``` python\n",
    "lst = []\n",
    "n = int(input())\n",
    "\n",
    "for i in range(n):\n",
    "    lst.append(int(input()))\n",
    "\n",
    "for i in range(len(lst)):\n",
    "    for j in range(i):\n",
    "        if lst[i] < lst[j]:\n",
    "            tmp = lst[i]\n",
    "            lst[i] = lst[j]\n",
    "            lst[j] = tmp\n",
    "print(lst)\n",
    "```\n",
    "\n",
    "Code mẫu sử dụng hàm có sẵn:\n",
    "\n",
    "``` python\n",
    "lst = []\n",
    "n = int(input())\n",
    "\n",
    "for i in range(n):\n",
    "    lst.append(int(input()))\n",
    "lst.sort()\n",
    "print(lst)\n",
    "```"
   ]
  }
 ],
 "nbformat": 4,
 "nbformat_minor": 5,
 "metadata": {}
}
