{
 "cells": [
  {
   "cell_type": "markdown",
   "metadata": {},
   "source": [
    "**Hướng dẫn**\n",
    "\n",
    "Code mẫu:\n",
    "\n",
    "``` python\n",
    "n = int(input())\n",
    "lst = []\n",
    "for i in range(n):\n",
    "    lst.append(int(input()))\n",
    "min_value = lst[0]\n",
    "for i in lst:\n",
    "    if i < min_value:\n",
    "        min_value = i\n",
    "print(min_value)\n",
    "```"
   ]
  }
 ],
 "nbformat": 4,
 "nbformat_minor": 5,
 "metadata": {}
}
