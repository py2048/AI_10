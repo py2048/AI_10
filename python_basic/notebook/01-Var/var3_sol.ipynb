{
 "cells": [
  {
   "cell_type": "markdown",
   "metadata": {},
   "source": [
    "### Hướng dẫn\n",
    "\n",
    "Bạn cần chuyển kiểu dữ liệu cho biến `date_of_birth` về dạng chuỗi. Code\n",
    "mẫu:\n",
    "\n",
    "``` python\n",
    "name = \"Codelearn\"\n",
    "date_of_birth = 2019\n",
    "print(\"Name: \" + name)\n",
    "print(\"Date of birth: \" + str(date_of_birth))\n",
    "```"
   ]
  }
 ],
 "nbformat": 4,
 "nbformat_minor": 5,
 "metadata": {}
}
