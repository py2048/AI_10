{
 "cells": [
  {
   "cell_type": "markdown",
   "metadata": {},
   "source": [
    "### Hướng dẫn\n",
    "\n",
    "Code mẫu:\n",
    "\n",
    "``` python\n",
    "x = input()\n",
    "print('H' in x)\n",
    "```"
   ]
  }
 ],
 "nbformat": 4,
 "nbformat_minor": 5,
 "metadata": {}
}
