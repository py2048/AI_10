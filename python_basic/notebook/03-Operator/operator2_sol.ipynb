{
 "cells": [
  {
   "cell_type": "markdown",
   "metadata": {},
   "source": [
    "### Hướng dẫn\n",
    "\n",
    "Code mẫu:\n",
    "\n",
    "``` python\n",
    "x = int(input())\n",
    "y = int(input())\n",
    "print(\"x > y:\", x > y)\n",
    "```\n",
    "\n",
    "\\`\\`"
   ]
  }
 ],
 "nbformat": 4,
 "nbformat_minor": 5,
 "metadata": {}
}
