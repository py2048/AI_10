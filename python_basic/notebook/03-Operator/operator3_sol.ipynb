{
 "cells": [
  {
   "cell_type": "markdown",
   "metadata": {},
   "source": [
    "### Hướng dẫn\n",
    "\n",
    "Code mẫu:\n",
    "\n",
    "``` python\n",
    "a = int(input())\n",
    "Total = int(input())\n",
    "\n",
    "Total += a # Using += Operator\n",
    "print(\"The Value of the Total after using += Operator is:\", Total)\n",
    "Total -= a # Using -= Operator\n",
    "print(\"The Value of the Total after using -= Operator is:\", Total)\n",
    "Total *= a # Using *= Operator\n",
    "print(\"The Value of the Total after using *= Operator is:\", Total)\n",
    "Total //= a # Using //= Operator\n",
    "print(\"The Value of the Total after using //= Operator is:\", Total)\n",
    "Total **= a # Using **= Operator\n",
    "print(\"The Value of the Total after using **= Operator is:\", Total)\n",
    "Total /= a # Using /= Operator\n",
    "print(\"The Value of the Total after using /= Operator is:\", Total)\n",
    "Total %= a# Using %= Operator\n",
    "print(\"The Value of the Total after using %= Operator is:\", Total)\n",
    "```"
   ]
  }
 ],
 "nbformat": 4,
 "nbformat_minor": 5,
 "metadata": {}
}
