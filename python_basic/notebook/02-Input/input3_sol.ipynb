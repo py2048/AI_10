{
 "cells": [
  {
   "cell_type": "markdown",
   "metadata": {},
   "source": [
    "### Hướng dẫn\n",
    "\n",
    "Code mẫu:\n",
    "\n",
    "``` python\n",
    "a = int(input())\n",
    "b = int(input())\n",
    "print(\"a % b = \" + str(a % b))\n",
    "```\n",
    "\n",
    "Hoặc bạn cũng có thể làm như sau:\n",
    "\n",
    "``` python\n",
    "a = int(input())\n",
    "b = int(input())\n",
    "print(\"a % b =\", a % b)\n",
    "```"
   ]
  }
 ],
 "nbformat": 4,
 "nbformat_minor": 5,
 "metadata": {}
}
