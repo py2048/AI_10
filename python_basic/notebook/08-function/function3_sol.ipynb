{
 "cells": [
  {
   "cell_type": "markdown",
   "metadata": {},
   "source": [
    "### Hướng dẫn\n",
    "\n",
    "Code mẫu:\n",
    "\n",
    "``` python\n",
    "def get_unique_values(lst):\n",
    "    answer = []\n",
    "    for v in lst:\n",
    "        if v not in answer:\n",
    "            answer.append(v)\n",
    "    return answer\n",
    "\n",
    "\n",
    "n = int(input())\n",
    "lst = []\n",
    "for i in range(n):\n",
    "    lst.append(int(input()))\n",
    "print(get_unique_values(lst))\n",
    "```"
   ]
  }
 ],
 "nbformat": 4,
 "nbformat_minor": 5,
 "metadata": {}
}
