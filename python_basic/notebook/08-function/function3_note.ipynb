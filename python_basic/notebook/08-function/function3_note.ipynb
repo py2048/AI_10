{
 "cells": [
  {
   "cell_type": "markdown",
   "metadata": {},
   "source": [
    "### **Bài tập**\n",
    "\n",
    "Bạn hãy viết hàm nhận vào một `list` và trả về các số xuất hiện\n",
    "trong `list` đó (xem ví dụ để hiểu rõ hơn).\n",
    "\n",
    "**Ví dụ:**\n",
    "\n",
    "-   Nếu `lst = [2, 2, 2, 3, 3, 1]` thì màn hình sẽ hiển thị ra\n",
    "    `[2, 3, 1]`\n",
    "-   Nếu `lst = [1,1,2,2,3,3,3,3,4,4,4,4,5,5]` thì màn hình sẽ hiển thị\n",
    "    ra `[1,2,3,4,5]`\n",
    "-   Nếu `lst = [1, 1, 1]` thì màn hình sẽ hiển thị ra `[1]`\n",
    "\n",
    "<!-- -->\n",
    "\n",
    "### Hướng dẫn"
   ]
  }
 ],
 "nbformat": 4,
 "nbformat_minor": 5,
 "metadata": {}
}
