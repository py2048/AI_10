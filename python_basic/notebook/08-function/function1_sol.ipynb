{
 "cells": [
  {
   "cell_type": "markdown",
   "metadata": {},
   "source": [
    "### Hướng dẫn\n",
    "\n",
    "Code mẫu:\n",
    "\n",
    "``` python\n",
    "def sum_of_list(lst):\n",
    "    answer = 0\n",
    "    for v in lst:\n",
    "        answer += v\n",
    "    return answer\n",
    "\n",
    "lst = []\n",
    "n = int(input())\n",
    "for i in range(n):\n",
    "    lst.append(int(input()))\n",
    "print(sum_of_list(lst))\n",
    "```\n",
    "\n",
    "\\`\\`"
   ]
  }
 ],
 "nbformat": 4,
 "nbformat_minor": 5,
 "metadata": {}
}
