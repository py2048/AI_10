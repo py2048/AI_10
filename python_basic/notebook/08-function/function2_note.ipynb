{
 "cells": [
  {
   "cell_type": "markdown",
   "metadata": {},
   "source": [
    "### **Bài tập**\n",
    "\n",
    "Cho 3 số nguyên `a, b, c` được nhập vào từ bàn phím, bạn hãy viết hàm\n",
    "trả về số lớn nhất trong 3 số này và hiển thị kết quả ra màn hình.\n",
    "\n",
    "**Ví dụ:**\n",
    "\n",
    "-   Nếu bạn nhập `a = 3, b = 6, c = 5` thì chương trình sẽ hiển thị ra\n",
    "    `6`.\n",
    "-   Nếu bạn nhập `a = 2, b = 1, c = 3` thì chương trình sẽ hiển thị\n",
    "    ra `3`.\n",
    "\n",
    "### **Hướng dẫn**"
   ]
  }
 ],
 "nbformat": 4,
 "nbformat_minor": 5,
 "metadata": {}
}
