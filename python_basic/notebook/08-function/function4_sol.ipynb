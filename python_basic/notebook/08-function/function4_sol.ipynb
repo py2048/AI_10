{
 "cells": [
  {
   "cell_type": "markdown",
   "metadata": {},
   "source": [
    "### **Hướng dẫn**\n",
    "\n",
    "Bài này bạn có thể dùng vòng lặp để đếm số ước của `n`, nếu số ước của\n",
    "`n` là 2 thì `return True`, ngược lại `return False`.\n",
    "\n",
    "Code mẫu:\n",
    "\n",
    "``` python\n",
    "def is_prime(n):\n",
    "    count = 0\n",
    "    for i in range(1, n + 1):\n",
    "        if n % i == 0:\n",
    "            count += 1\n",
    "    if count == 2:\n",
    "        return True\n",
    "    return False\n",
    "\n",
    "\n",
    "n = int(input())\n",
    "print(is_prime(n))\n",
    "```"
   ]
  }
 ],
 "nbformat": 4,
 "nbformat_minor": 5,
 "metadata": {}
}
