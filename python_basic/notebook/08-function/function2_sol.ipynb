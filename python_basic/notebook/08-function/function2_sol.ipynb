{
 "cells": [
  {
   "cell_type": "markdown",
   "metadata": {},
   "source": [
    "### **Hướng dẫn**\n",
    "\n",
    "Code mẫu:\n",
    "\n",
    "``` python\n",
    "def max3(a, b, c):\n",
    "    if a > b and a > c:\n",
    "        return a\n",
    "    return b if b > c else c\n",
    "\n",
    "\n",
    "a = int(input())\n",
    "b = int(input())\n",
    "c = int(input())\n",
    "print(max3(a, b, c))\n",
    "```"
   ]
  }
 ],
 "nbformat": 4,
 "nbformat_minor": 5,
 "metadata": {}
}
