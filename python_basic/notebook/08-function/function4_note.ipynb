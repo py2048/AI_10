{
 "cells": [
  {
   "cell_type": "markdown",
   "metadata": {},
   "source": [
    "### **Bài tập**\n",
    "\n",
    "Cho số tự nhiên `n` được nhập vào từ bàn phím, bạn hãy viết hàm kiểm tra\n",
    "xem `n` có phải là số nguyên tố không, nếu có trả về `True`, ngược lại\n",
    "trả về `False`.\n",
    "\n",
    "Số nguyên tố là các số tự nhiên mà chỉ có 2 ước là 1 và chính nó. Ví dụ:\n",
    "`2, 3, 5, 7, 11, 13, 17,...` là các số nguyên tố.\n",
    "\n",
    "**Ví dụ:**\n",
    "\n",
    "-   Nếu bạn nhập `n = 9` thì màn hình sẽ hiển thị ra `False`\n",
    "-   Nếu bạn nhập `n = 3` thì màn hình sẽ hiển thị ra `True`\n",
    "\n",
    "<!-- -->\n",
    "\n",
    "### **Hướng dẫn**"
   ]
  }
 ],
 "nbformat": 4,
 "nbformat_minor": 5,
 "metadata": {}
}
