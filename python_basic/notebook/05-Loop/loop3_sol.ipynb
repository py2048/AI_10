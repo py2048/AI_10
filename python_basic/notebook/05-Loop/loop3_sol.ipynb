{
 "cells": [
  {
   "cell_type": "markdown",
   "metadata": {},
   "source": [
    "### Hướng dẫn\n",
    "\n",
    "Code mẫu:\n",
    "\n",
    "``` python\n",
    "#Input\n",
    "a = int(input())\n",
    "b = int(input())\n",
    "count_odd = 0\n",
    "count_even = 0\n",
    "\n",
    "for i in range(a, b + 1):\n",
    "    if i % 2 == 0:\n",
    "        count_even += 1\n",
    "    else:\n",
    "        count_odd += 1\n",
    "\n",
    "print(\"Number of even numbers:\", count_even)\n",
    "print(\"Number of odd numbers:\", count_odd)\n",
    "```"
   ]
  }
 ],
 "nbformat": 4,
 "nbformat_minor": 5,
 "metadata": {}
}
