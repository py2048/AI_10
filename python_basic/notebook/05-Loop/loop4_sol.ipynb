{
 "cells": [
  {
   "cell_type": "markdown",
   "metadata": {},
   "source": [
    "### Hướng dẫn\n",
    "\n",
    "Code mẫu:\n",
    "\n",
    "``` python\n",
    "n = int(input())\n",
    "\n",
    "ans = 0\n",
    "for i in range(1, n+1):\n",
    "    ans += i / (i + 1)\n",
    "\n",
    "print(round(ans, 2))\n",
    "```"
   ]
  }
 ],
 "nbformat": 4,
 "nbformat_minor": 5,
 "metadata": {}
}
