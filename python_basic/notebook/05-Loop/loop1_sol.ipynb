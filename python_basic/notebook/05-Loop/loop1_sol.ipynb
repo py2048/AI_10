{
 "cells": [
  {
   "cell_type": "markdown",
   "metadata": {},
   "source": [
    "### Hướng dẫn\n",
    "\n",
    "Code mẫu sử dụng vòng lặp `for`:\n",
    "\n",
    "``` python\n",
    "n = int(input())\n",
    "answer = 0\n",
    "for i in range(1, n + 1):\n",
    "    answer += i\n",
    "print(answer)\n",
    "```\n",
    "\n",
    "Code mẫu sử dụng vòng lặp `while`:\n",
    "\n",
    "``` python\n",
    "n = int(input())\n",
    "i = 1\n",
    "answer = 0\n",
    "while i <= n:\n",
    "    answer += i\n",
    "    i += 1\n",
    "print(answer)\n",
    "```"
   ]
  }
 ],
 "nbformat": 4,
 "nbformat_minor": 5,
 "metadata": {}
}
