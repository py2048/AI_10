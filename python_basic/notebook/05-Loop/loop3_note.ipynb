{
 "cells": [
  {
   "cell_type": "markdown",
   "metadata": {},
   "source": [
    "### **Bài tập**\n",
    "\n",
    "Cho hai số nguyên `a` và `b` được nhập từ bàn phím, bạn hãy viết chương\n",
    "trình đếm số các số chẵn và số các số lẻ trong khoảng từ `a` tới `b`.\n",
    "Sau đó hiển thị ra màn hình thông tin sau:\n",
    "\n",
    "``` markup\n",
    "Number of even numbers: {P1}\n",
    "Number of odd numbers: {P2}\n",
    "```\n",
    "\n",
    "Trong đó `{P1}` và `{P2}` lần lượt là số các số chẵn và số các số lẻ\n",
    "trong khoảng `[a, b]`.\n",
    "\n",
    "Ví dụ nếu bạn nhập `a = 1, b = 10` thì màn hình sẽ hiển thị ra:\n",
    "\n",
    "``` markup\n",
    "Number of even numbers: 5\n",
    "Number of odd numbers: 5\n",
    "```\n",
    "\n",
    "Nếu bạn nhập `a = 14, b = 24` thì màn hình sẽ hiển thị ra:\n",
    "\n",
    "``` markup\n",
    "Number of even numbers: 6\n",
    "Number of odd numbers: 5\n",
    "```\n",
    "\n",
    "### Hướng dẫn"
   ]
  }
 ],
 "nbformat": 4,
 "nbformat_minor": 5,
 "metadata": {}
}
